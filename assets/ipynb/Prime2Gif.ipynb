{
 "cells": [
  {
   "cell_type": "code",
   "execution_count": 1,
   "id": "59b3d1b3",
   "metadata": {},
   "outputs": [],
   "source": [
    "from PIL import Image\n",
    "from PIL import ImageDraw\n",
    "import random"
   ]
  },
  {
   "cell_type": "markdown",
   "id": "89da4867",
   "metadata": {},
   "source": [
    "# 1. 定义迷宫基本变量(长、宽)"
   ]
  },
  {
   "cell_type": "code",
   "execution_count": 2,
   "id": "f4a172f1",
   "metadata": {},
   "outputs": [],
   "source": [
    "WIDTH = 5\n",
    "HEIGHT = 5\n",
    "FRAME_WIDTH = WIDTH * 48 + 16\n",
    "FRAME_HEIGHT = HEIGHT * 48 + 16\n",
    "WALL_COLOR = (138, 111, 48)\n",
    "FLOOR_COLOR = (251, 242, 54)\n",
    "MIST_FLOOR_COLOR = (135, 135, 135)\n",
    "FRAMES = []"
   ]
  },
  {
   "cell_type": "markdown",
   "id": "44030c78",
   "metadata": {},
   "source": [
    "# 2. 定义迷宫单元"
   ]
  },
  {
   "cell_type": "code",
   "execution_count": 3,
   "id": "266df16a",
   "metadata": {},
   "outputs": [],
   "source": [
    "class Cell:\n",
    "    def __init__(self, x, y):\n",
    "        self.x = x\n",
    "        self.y = y\n",
    "        self.passed = False"
   ]
  },
  {
   "cell_type": "markdown",
   "id": "6b22f8b3",
   "metadata": {},
   "source": [
    "# 3. 定义获取迷宫相邻方块方法"
   ]
  },
  {
   "cell_type": "code",
   "execution_count": 4,
   "id": "80068f2c",
   "metadata": {},
   "outputs": [],
   "source": [
    "def getNeighborWalls(floor, maze):\n",
    "    result = []\n",
    "    if floor.x % 1 == 0 and floor.y % 1 == 0:\n",
    "        if floor.x + 1 < len(maze):\n",
    "            result.append(maze[floor.x + 1][floor.y])\n",
    "        if floor.y + 1 < len(maze[floor.x]):\n",
    "            result.append(maze[floor.x][floor.y + 1])\n",
    "        if floor.x - 1 >= 0:\n",
    "            result.append(maze[floor.x - 1][floor.y])\n",
    "        if floor.y - 1 >= 0:\n",
    "            result.append(maze[floor.x][floor.y - 1])\n",
    "    return result\n",
    "\n",
    "\n",
    "def getNeighborFloors(wall, maze):\n",
    "    result = []\n",
    "    if wall.x % 2 == 1 and wall.y % 2 == 0:\n",
    "        if wall.y - 1 >= 0:\n",
    "            result.append(maze[wall.x][wall.y - 1])\n",
    "        if wall.y + 1 < len(maze[wall.x]):\n",
    "            result.append(maze[wall.x][wall.y + 1])\n",
    "    if wall.x % 2 == 0 and wall.y % 2 == 1:  \n",
    "        if wall.x + 1 < len(maze):\n",
    "            result.append(maze[wall.x + 1][wall.y])\n",
    "        if wall.x - 1 >= 0:\n",
    "            result.append(maze[wall.x - 1][wall.y])\n",
    "    return result"
   ]
  },
  {
   "cell_type": "markdown",
   "id": "ebf28ccd",
   "metadata": {},
   "source": [
    "# 4. 定义输出迷宫图像帧方法"
   ]
  },
  {
   "cell_type": "code",
   "execution_count": 5,
   "id": "5bc586fb",
   "metadata": {},
   "outputs": [],
   "source": [
    "def appendMazeFrame(maze):\n",
    "    image = Image.new('RGB', (FRAME_WIDTH, FRAME_HEIGHT), color=MIST_FLOOR_COLOR)\n",
    "    imaged = ImageDraw.Draw(image)\n",
    "    for row in maze:\n",
    "        for cell in row:\n",
    "            draw_x = cell.x // 2 * 48\n",
    "            draw_y = cell.y // 2 * 48\n",
    "            if cell.x % 2 == 0 and cell.y % 2 == 0:\n",
    "                # 死墙\n",
    "                imaged.rectangle([(draw_x, draw_y), (draw_x + 16, draw_y + 16)], fill=WALL_COLOR)\n",
    "            if cell.x % 2 == 0 and cell.y % 2 == 1:\n",
    "                # 竖墙\n",
    "                if cell.passed:\n",
    "                    imaged.rectangle([(draw_x, draw_y + 16), (draw_x + 16, draw_y + 48)], fill=FLOOR_COLOR)\n",
    "                else:\n",
    "                    imaged.rectangle([(draw_x, draw_y + 16), (draw_x + 16, draw_y + 48)], fill=WALL_COLOR)\n",
    "            if cell.x % 2 == 1 and cell.y % 2 == 0:\n",
    "                # 横墙\n",
    "                if cell.passed:\n",
    "                    imaged.rectangle([(draw_x + 16, draw_y), (draw_x + 48, draw_y + 16)], fill=FLOOR_COLOR)\n",
    "                else:\n",
    "                    imaged.rectangle([(draw_x + 16, draw_y), (draw_x + 48, draw_y + 16)], fill=WALL_COLOR)\n",
    "            if cell.x % 2 == 1 and cell.y % 2 == 1:\n",
    "                # 地板\n",
    "                if cell.passed:\n",
    "                    imaged.rectangle([(draw_x + 16, draw_y + 16), (draw_x + 48, draw_y + 48)], fill=FLOOR_COLOR)\n",
    "                else:\n",
    "                    imaged.rectangle([(draw_x + 16, draw_y + 16), (draw_x + 48, draw_y + 48)], fill=MIST_FLOOR_COLOR)\n",
    "    FRAMES.append(image)"
   ]
  },
  {
   "cell_type": "markdown",
   "id": "094402a9",
   "metadata": {},
   "source": [
    "# 5. 开始生成迷宫"
   ]
  },
  {
   "cell_type": "code",
   "execution_count": 7,
   "id": "1c3f273b",
   "metadata": {},
   "outputs": [],
   "source": [
    "maze = [[Cell(x, y) for y in range(HEIGHT * 2 + 1)] for x in range(WIDTH * 2 + 1)]\n",
    "reached_floor = []\n",
    "walls = []\n",
    "step = 0\n",
    "# 随机选择一块地板标记为passed，并将其相邻的墙放入判定列表\n",
    "start_point = maze[2 * random.randint(0, WIDTH-1) + 1][2 * random.randint(0, HEIGHT-1) + 1]\n",
    "start_point.passed = True\n",
    "reached_floor.append(start_point)\n",
    "walls.extend(getNeighborWalls(start_point, maze))\n",
    "appendMazeFrame(maze)\n",
    "step += 1\n",
    "while len(walls) > 0:\n",
    "    wall = walls[random.randint(0, len(walls) - 1)]\n",
    "    walls.remove(wall)\n",
    "    for floor in getNeighborFloors(wall, maze):\n",
    "        if not floor.passed:\n",
    "            wall.passed = True\n",
    "            floor.passed = True\n",
    "            walls.extend(getNeighborWalls(floor, maze))\n",
    "            appendMazeFrame(maze)\n",
    "            step += 1\n",
    "appendMazeFrame(maze)"
   ]
  },
  {
   "cell_type": "markdown",
   "id": "5bd5f6bf",
   "metadata": {},
   "source": [
    "# 6. 整合图片，生成Gif展示过程"
   ]
  },
  {
   "cell_type": "code",
   "execution_count": 9,
   "id": "fa8d3c92",
   "metadata": {},
   "outputs": [],
   "source": [
    "FRAMES[0].save('data/Prime2Gif/generating.gif', format='GIF', append_images=FRAMES[1:], save_all=True, duration=500, loop=True)"
   ]
  }
 ],
 "metadata": {
  "kernelspec": {
   "display_name": "Python 3 (ipykernel)",
   "language": "python",
   "name": "python3"
  },
  "language_info": {
   "codemirror_mode": {
    "name": "ipython",
    "version": 3
   },
   "file_extension": ".py",
   "mimetype": "text/x-python",
   "name": "python",
   "nbconvert_exporter": "python",
   "pygments_lexer": "ipython3",
   "version": "3.8.2"
  }
 },
 "nbformat": 4,
 "nbformat_minor": 5
}
